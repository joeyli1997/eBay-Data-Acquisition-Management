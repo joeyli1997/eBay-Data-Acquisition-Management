{
 "cells": [
  {
   "cell_type": "code",
   "execution_count": 1,
   "metadata": {},
   "outputs": [],
   "source": [
    "import requests, re, math\n",
    "from bs4 import BeautifulSoup\n",
    "import pandas as pd\n",
    "import numpy as np\n",
    "import time\n",
    "import json\n",
    "import os\n",
    "import mysql.connector\n",
    "from mysql.connector import errorcode"
   ]
  },
  {
   "cell_type": "markdown",
   "metadata": {},
   "source": [
    "# Web-scraping: Which sellers advertise/sponsor on eBay"
   ]
  },
  {
   "cell_type": "markdown",
   "metadata": {},
   "source": [
    "### Search for buy-it-now listings of keyword and limit the number of items to 100 per page. For the first 10 pages of 100 items/page, save all the URLs of sponsored items' pages to the file \"sponsored.txt\" and all the URLs of non-sponsored items' pages to the file \"non-sponsored.txt\" in the same directory as your code."
   ]
  },
  {
   "cell_type": "code",
   "execution_count": 5,
   "metadata": {
    "scrolled": true
   },
   "outputs": [],
   "source": [
    "sponsored_links = list()\n",
    "nonsponsored_links = list()\n",
    "\n",
    "for i in range(1,11):\n",
    "    \n",
    "    #Take the url of ith search page for \"playstation 4 slim\".\n",
    "    url = 'https://www.ebay.com/sch/i.html?_from=R40&_nkw=playstation+4+slim&_sacat=0&_ipg=100&_pgn=%d'%i\n",
    "    \n",
    "    #Extract the url to a soup object.\n",
    "    ps4 = get_html(url)\n",
    "    \n",
    "    #Transfer the html to BeautifulSoup object:\n",
    "    searchPage = BeautifulSoup(ps4)\n",
    "    items = searchPage.select(\"li.s-item\")\n",
    "    \n",
    "    for item in items:\n",
    "        if item.find('div', \"s-item__title--tagblock\")==None:\n",
    "            link = re.findall(r'<a.+?class=\"s-item__link\".+?href=\"(https:.+?)\">',str(item))\n",
    "            nonsponsored_links.append(link)\n",
    "        else:  \n",
    "            element = item.find('div', \"s-item__title--tagblock\").text\n",
    "            sponsor = re.findall(r'.*S.*P.*O.*N.*S.*O.*R.*E.*D.*', element)\n",
    "\n",
    "            if sponsor != []:\n",
    "                link = re.findall(r'<a.+?class=\"s-item__link\".+?href=\"(https:.+?)\">',str(item))\n",
    "                sponsored_links.append(link)\n",
    "\n",
    "            else:\n",
    "                link = re.findall(r'<a.+?class=\"s-item__link\".+?href=\"(https:.+?)\">',str(item))\n",
    "                nonsponsored_links.append(link)\n",
    "            \n",
    "    #Generate 10s before opening next page:\n",
    "    time.sleep(10)\n"
   ]
  },
  {
   "cell_type": "code",
   "execution_count": 6,
   "metadata": {},
   "outputs": [],
   "source": [
    "sponsored_links = [x for x in sponsored_links if x != []]"
   ]
  },
  {
   "cell_type": "code",
   "execution_count": 7,
   "metadata": {},
   "outputs": [],
   "source": [
    "# Write links to corresponding file:\n",
    "with open(\"sponsored.txt\", \"w\",encoding='utf-8') as file:\n",
    "    for link in sponsored_links:\n",
    "        file.write(link[0]+\"\\n\")\n",
    "        \n",
    "with open(\"non-sponsored.txt\", \"w\",encoding='utf-8') as file:\n",
    "    for link in nonsponsored_links:\n",
    "        file.write(link[0]+\"\\n\")"
   ]
  },
  {
   "cell_type": "markdown",
   "metadata": {},
   "source": [
    "### Create two folders in the same directory as your code and name them \"sponsored\" and \"non-sponsored\". Write a program that opens the two files and downloads each of the pages (URLs) into the folders \"sponsored\" and \"non- sponsored\". Each file should be named as \"item-id.htm\" where you replace \"item-id\" with the ID of the item you are saving. E.g., \"264616053293.htm\" for the item with ID \"264616053293\". Note it is always good to put a 2-second pause between queries. Make sure to catch an error and continue if your query runs into problems connecting to eBay."
   ]
  },
  {
   "cell_type": "code",
   "execution_count": 9,
   "metadata": {},
   "outputs": [],
   "source": [
    "# Create two folders:\n",
    "path = os.getcwd()\n",
    "sp_dir = os.path.join(path,'sponsored')\n",
    "nonsp_dir = os.path.join(path,'non-sponsored')\n",
    "os.mkdir(sp_dir)\n",
    "os.mkdir(nonsp_dir)"
   ]
  },
  {
   "cell_type": "code",
   "execution_count": 10,
   "metadata": {},
   "outputs": [],
   "source": [
    "# Read the file content\n",
    "sp_data = open('sponsored.txt','r',encoding='utf-8')\n",
    "sp_string = sp_data.read()\n",
    "#close the file\n",
    "sp_data.close()\n",
    "\n",
    "nonsp_data = open('non-sponsored.txt','r',encoding='utf-8')\n",
    "nonsp_string = nonsp_data.read()\n",
    "#close the file\n",
    "nonsp_data.close()"
   ]
  },
  {
   "cell_type": "code",
   "execution_count": 11,
   "metadata": {},
   "outputs": [],
   "source": [
    "# Get the links of items from the string stored in files, and strap last element\n",
    "# that contains nothing.\n",
    "sp_links = sp_string.split('\\n')\n",
    "sp_links = sp_links[0:len(sp_links)-1]\n",
    "nonsp_links = nonsp_string.split('\\n')\n",
    "nonsp_links = nonsp_links[0:len(nonsp_links)-1]"
   ]
  },
  {
   "cell_type": "code",
   "execution_count": 12,
   "metadata": {},
   "outputs": [],
   "source": [
    "# Downloads each of the pages (URLs) into the folders \"sponsored\"\n",
    "for j in range(len(sp_links)):\n",
    "    try:\n",
    "        #Extract the url to a soup object.\n",
    "        page = get_html(sp_links[j])\n",
    "    \n",
    "        #Transfer the html to BeautifulSoup object:\n",
    "        soup = BeautifulSoup(page)\n",
    "        \n",
    "        #Find the item id:\n",
    "        item_id = soup.find('div',{'id':'descItemNumber'}).get_text()\n",
    "        \n",
    "        #Save content into file with corresponding name\n",
    "        with open(\"sponsored/%s.htm\"%item_id, \"w\",encoding='utf-8') as file:\n",
    "            file.write(page)\n",
    "            \n",
    "        #Pause 2s between queries\n",
    "        time.sleep(2)\n",
    "        \n",
    "    except: # Error handling\n",
    "        pass\n",
    "        print(\"Pass %dth sponsored item.\"%(j+1))"
   ]
  },
  {
   "cell_type": "code",
   "execution_count": 13,
   "metadata": {},
   "outputs": [
    {
     "name": "stdout",
     "output_type": "stream",
     "text": [
      "Pass 90th non-sponsored item.\n",
      "Pass 426th non-sponsored item.\n"
     ]
    }
   ],
   "source": [
    "# Downloads each of the pages (URLs) into the folders \"non-sponsored\"\n",
    "for k in range(len(nonsp_links)):\n",
    "    try:\n",
    "        #Extract the url to a soup object.\n",
    "        page = get_html(nonsp_links[k])\n",
    "    \n",
    "        #Transfer the html to BeautifulSoup object:\n",
    "        soup = BeautifulSoup(page)\n",
    "        \n",
    "        #Find the item id:\n",
    "        item_id = soup.find('div',{'id':'descItemNumber'}).get_text()\n",
    "        \n",
    "        #Save content into file with corresponding name\n",
    "        with open(\"non-sponsored/%s.htm\"%item_id, \"w\",encoding='utf-8') as file:\n",
    "            file.write(page)\n",
    "            \n",
    "        #Pause 2s between queries\n",
    "        time.sleep(2)\n",
    "        \n",
    "    except: # Error handling\n",
    "        pass\n",
    "        print(\"Pass %dth non-sponsored item.\"%(k+1))"
   ]
  },
  {
   "cell_type": "markdown",
   "metadata": {},
   "source": [
    "### Loops through the pages you downloaded and opens and parses them into a Python Beautifulsoup-object. Identify and select: seller name, seller score, item price, # items sold, best offer available, title, returns allowed, shipping price, condition (e.g., used, new, like new, seller refurbished, ...)"
   ]
  },
  {
   "cell_type": "code",
   "execution_count": null,
   "metadata": {
    "scrolled": true
   },
   "outputs": [],
   "source": [
    "item_id_list = list()\n",
    "seller_name_list = list()\n",
    "seller_score_list = list()\n",
    "item_price_list = list()\n",
    "num_item_sold_list = list()\n",
    "best_offer_list = list()\n",
    "returns_allowed_list = list()\n",
    "shipping_price_list = list()\n",
    "condition_list = list()\n",
    "source_list = list()\n",
    "\n",
    "for filename in os.listdir('sponsored/'):\n",
    "    if filename != '.DS_Store':\n",
    "        print(\"Getting info of %s\"%filename)\n",
    "        item_id_list.append(filename[0:12])\n",
    "        item_data = open('sponsored/%s'%filename,'r',encoding='utf-8')\n",
    "        content = item_data.read()\n",
    "        item_data.close() #close the file\n",
    "        \n",
    "        #Transfer the html to BeautifulSoup object:\n",
    "        item_soup = BeautifulSoup(content)\n",
    "\n",
    "        # -------------------------------Find the seller name------------------------------------\n",
    "        try:\n",
    "            seller_name = item_soup.find('div',{'id':'RightSummaryPanel'}).find('span',{'class':'mbg-nw'}).get_text()\n",
    "        except:\n",
    "            seller_name = None\n",
    "        seller_name_list.append(seller_name)\n",
    "\n",
    "        # -------------------------------Find the seller score------------------------------------\n",
    "        try:\n",
    "            summary = item_soup.find('div',{'id':'RightSummaryPanel'})\n",
    "            seller_score = re.findall(r'href=\"http://feedback.ebay.com.+>(.+)<', str(summary))[0]\n",
    "        except:\n",
    "            seller_score = None \n",
    "        seller_score_list.append(seller_score)\n",
    "\n",
    "        # -------------------------------Find the item price------------------------------------\n",
    "        try:\n",
    "            item_price = item_soup.find('span',{'class':'notranslate','id':'prcIsum'}).get_text()\n",
    "        except:\n",
    "            try:\n",
    "                item_price = item_soup.find('span',{'class':'notranslate','itemprop':'price'}).get_text()\n",
    "            except:\n",
    "                item_price = None \n",
    "        item_price_list.append(item_price)\n",
    "\n",
    "        # -------------------------------Find the #item sold------------------------------------\n",
    "        try:\n",
    "            summary = item_soup.find('div',{'id':'mainContent'})\n",
    "            num_item_sold = summary.find('a',{'class':'vi-txt-underline'}).get_text().split(' ')[0]\n",
    "        except:\n",
    "            num_item_sold = None\n",
    "        num_item_sold_list.append(num_item_sold)\n",
    "\n",
    "        # -------------------------------best offer available------------------------------------\n",
    "        try:\n",
    "            summary = item_soup.find('div',{'id':'mainContent'})\n",
    "            best_offer = summary.find('div',{'class':'vi-bbox-dspn u-flL lable boLable'}).get_text()\n",
    "            if len(best_offer)==11:\n",
    "                best_offer = \"Yes\"\n",
    "            else:\n",
    "                best_offer = \"No\"\n",
    "        except:\n",
    "            best_offer = \"No\"\n",
    "        best_offer_list.append(best_offer)\n",
    "        \n",
    "        # ---------------------------------returns allowed---------------------------------------\n",
    "        try:\n",
    "            returns_allowed = item_soup.find('span',{'id':'vi-ret-accrd-txt'}).get_text()\n",
    "        except:\n",
    "            returns_allowed = None\n",
    "        returns_allowed_list.append(returns_allowed)\n",
    "\n",
    "        # ----------------------------------shipping price---------------------------------------\n",
    "        try:\n",
    "            shipping_price = item_soup.find('span',{'id':'fshippingCost'}).get_text()\n",
    "        except:\n",
    "            try:\n",
    "                shipping_price  = item_soup.find('span',{'id':'shSummary'}).find('strong',{'class':'sh_gr_bld'}).get_text()\n",
    "            except:\n",
    "                shipping_price = None\n",
    "        shipping_price_list.append(shipping_price)\n",
    "\n",
    "        # --------------------------------------condition-----------------------------------------\n",
    "        try:\n",
    "            condition = item_soup.find('div',{'itemprop':'itemCondition'}).get_text()\n",
    "        except:\n",
    "            condition = None\n",
    "        condition_list.append(condition)\n",
    "        \n",
    "        source_list.append('sponsored')        \n",
    "        "
   ]
  },
  {
   "cell_type": "code",
   "execution_count": null,
   "metadata": {
    "scrolled": true
   },
   "outputs": [],
   "source": [
    "for filename in os.listdir('non-sponsored/'):\n",
    "    if filename != '.DS_Store':\n",
    "        print(\"Getting info of %s\"%filename)\n",
    "        item_id_list.append(filename[0:12])\n",
    "        item_data = open('non-sponsored/%s'%filename,'r',encoding='utf-8')\n",
    "        content = item_data.read()\n",
    "        item_data.close() #close the file\n",
    "        \n",
    "        #Transfer the html to BeautifulSoup object:\n",
    "        item_soup = BeautifulSoup(content)\n",
    "\n",
    "        # -------------------------------Find the seller name------------------------------------\n",
    "        try:\n",
    "            seller_name = item_soup.find('div',{'id':'RightSummaryPanel'}).find('span',{'class':'mbg-nw'}).get_text()\n",
    "        except:\n",
    "            seller_name = None\n",
    "        seller_name_list.append(seller_name)\n",
    "\n",
    "        # -------------------------------Find the seller score------------------------------------\n",
    "        try:\n",
    "            summary = item_soup.find('div',{'id':'RightSummaryPanel'})\n",
    "            seller_score = re.findall(r'href=\"http://feedback.ebay.com.+>(.+)<', str(summary))[0]\n",
    "        except:\n",
    "            seller_score = None \n",
    "        seller_score_list.append(seller_score)\n",
    "\n",
    "        # -------------------------------Find the item price------------------------------------\n",
    "        try:\n",
    "            item_price = item_soup.find('span',{'class':'notranslate','id':'prcIsum'}).get_text()\n",
    "        except:\n",
    "            try:\n",
    "                item_price = item_soup.find('span',{'class':'notranslate','itemprop':'price'}).get_text()\n",
    "            except:\n",
    "                item_price = None \n",
    "        item_price_list.append(item_price)\n",
    "\n",
    "        # -------------------------------Find the #item sold------------------------------------\n",
    "        try:\n",
    "            summary = item_soup.find('div',{'id':'mainContent'})\n",
    "            num_item_sold = summary.find('a',{'class':'vi-txt-underline'}).get_text().split(' ')[0]\n",
    "        except:\n",
    "            num_item_sold = None\n",
    "        num_item_sold_list.append(num_item_sold)\n",
    "\n",
    "        # -------------------------------best offer available------------------------------------\n",
    "        try:\n",
    "            summary = item_soup.find('div',{'id':'mainContent'})\n",
    "            best_offer = summary.find('div',{'class':'vi-bbox-dspn u-flL lable boLable'}).get_text()\n",
    "            if len(best_offer)==11:\n",
    "                best_offer = \"Yes\"\n",
    "            else:\n",
    "                best_offer = \"No\"\n",
    "        except:\n",
    "            best_offer = \"No\"\n",
    "        best_offer_list.append(best_offer)\n",
    "        \n",
    "        # ---------------------------------returns allowed---------------------------------------\n",
    "        try:\n",
    "            returns_allowed = item_soup.find('span',{'id':'vi-ret-accrd-txt'}).get_text()\n",
    "        except:\n",
    "            returns_allowed = None\n",
    "        returns_allowed_list.append(returns_allowed)\n",
    "\n",
    "        # ----------------------------------shipping price---------------------------------------\n",
    "        try:\n",
    "            shipping_price = item_soup.find('span',{'id':'fshippingCost'}).get_text()\n",
    "        except:\n",
    "            try:\n",
    "                shipping_price  = item_soup.find('span',{'id':'shSummary'}).find('strong',{'class':'sh_gr_bld'}).get_text()\n",
    "            except:\n",
    "                shipping_price = None\n",
    "        shipping_price_list.append(shipping_price)\n",
    "\n",
    "        # --------------------------------------condition-----------------------------------------\n",
    "        try:\n",
    "            condition = item_soup.find('div',{'itemprop':'itemCondition'}).get_text()\n",
    "        except:\n",
    "            condition = None\n",
    "        condition_list.append(condition) \n",
    "        \n",
    "        source_list.append('non-sponsored')        \n",
    "   "
   ]
  },
  {
   "cell_type": "code",
   "execution_count": 6,
   "metadata": {
    "scrolled": true
   },
   "outputs": [],
   "source": [
    "# Transform the shipping price information to the right form.\n",
    "shipping_price_list_test = shipping_price_list.copy()\n",
    "for i in range(len(shipping_price_list)):\n",
    "    if shipping_price_list[i] == '\\nFREE\\n':\n",
    "        shipping_price_list_test[i] = 0\n",
    "    elif shipping_price_list[i] == \"FAST 'N FREE\":\n",
    "        shipping_price_list_test[i] = 0\n",
    "    elif shipping_price_list[i] == None:\n",
    "        shipping_price_list_test[i] = None\n",
    "    else:\n",
    "        prices = re.findall(r'[$](.*[.][0-9][0-9])',str(shipping_price_list[i]))\n",
    "        if len(prices)==2:\n",
    "            shipping_price_list_test[i] = int(re.sub(\"[^0-9]\", \"\",prices[1]))\n",
    "        else:\n",
    "            shipping_price_list_test[i] = int(re.sub(\"[^0-9]\", \"\",prices[0]))\n",
    "    \n",
    "shipping_price_list_formatted = shipping_price_list_test.copy()"
   ]
  },
  {
   "cell_type": "code",
   "execution_count": 7,
   "metadata": {},
   "outputs": [],
   "source": [
    "# Transform the item price information to the right form.\n",
    "item_price_list_test = item_price_list.copy()\n",
    "currency_list = item_price_list.copy()\n",
    "for i in range(len(item_price_list_test)):\n",
    "    if item_price_list_test[i] == None:\n",
    "        pass\n",
    "    else: \n",
    "        if 'GBP' in item_price_list_test[i]:\n",
    "            price = int(re.sub(\"[^0-9]\", \"\", str(item_price_list_test[i])))\n",
    "            item_price_list_test[i] = round(price*1.29) #1 GBP = 1.29 USD\n",
    "            currency_list[i] = 'GBP'\n",
    "        elif 'C' in item_price_list_test[i]:\n",
    "            price = int(re.sub(\"[^0-9]\", \"\", str(item_price_list_test[i])))\n",
    "            item_price_list_test[i] = round(price*0.75)# 1 CAD = 0.75 USD\n",
    "            currency_list[i] = 'Canadian Dollars'\n",
    "        else:\n",
    "            price = int(re.sub(\"[^0-9]\", \"\", str(item_price_list_test[i])))\n",
    "            item_price_list_test[i] = price\n",
    "            currency_list[i] = 'USD'\n",
    "            \n",
    "item_price_list_formatted = item_price_list_test.copy()\n",
    "currency_list_formatted = currency_list.copy()"
   ]
  },
  {
   "cell_type": "code",
   "execution_count": 8,
   "metadata": {
    "scrolled": true
   },
   "outputs": [],
   "source": [
    "# Transform the return information to the right form.\n",
    "returns_allowed_list_test = returns_allowed_list.copy()\n",
    "for i in range(len(returns_allowed_list_test)):\n",
    "    if returns_allowed_list_test[i] == None:\n",
    "        pass\n",
    "    elif 'not' in returns_allowed_list_test[i]:\n",
    "        returns_allowed_list_test[i] = 'No'\n",
    "    else:\n",
    "        returns_allowed_list_test[i] = 'Yes'\n",
    "returns_allowed_list_formatted = returns_allowed_list_test.copy()\n"
   ]
  },
  {
   "cell_type": "code",
   "execution_count": 9,
   "metadata": {},
   "outputs": [],
   "source": [
    "# The shipping cost note:\n",
    "shipping_compute = [None]*len(shipping_price_list_formatted)\n",
    "for i in range(len(shipping_price_list_formatted)):\n",
    "    if shipping_price_list_formatted[i]==None:\n",
    "        shipping_compute[i] = True\n",
    "    else:\n",
    "        shipping_compute[i] = False\n",
    "shipping_cost_note_formatted = shipping_compute.copy()"
   ]
  },
  {
   "cell_type": "markdown",
   "metadata": {},
   "source": [
    "### Connect to SQL. Create a database and name it \"eBay\". Save the information of items in into a single table named \"eBay_items\" (You are allowed to use only one table). This table should contain both sponsored and non-sponsored information and have a column that specifies which item is sponsored/non-sponsored. If an item misses ANY of the information in (d), you should insert that missing value as NULL into the table. Convert any price (item price and shipping price) into a \"dollar-cent\" format (e.g., convert 12.34 into 1234 and 12 into 1200. Make sure the two least significant digits are cents. If an item does not include cents in the price, insert zeros.) and insert the price as INT into the table."
   ]
  },
  {
   "cell_type": "code",
   "execution_count": 11,
   "metadata": {},
   "outputs": [
    {
     "name": "stdout",
     "output_type": "stream",
     "text": [
      "('eBay',)\n",
      "('information_schema',)\n",
      "('mysql',)\n",
      "('performance_schema',)\n",
      "('sys',)\n",
      "('ucdavis',)\n"
     ]
    }
   ],
   "source": [
    "# Connect to the database.\n",
    "conn = mysql.connector.connect(\n",
    "    host='localhost',\n",
    "    user='root'\n",
    ")\n",
    "\n",
    "# Create a cursor.\n",
    "cursor = conn.cursor()\n",
    "\n",
    "# Create 'ucdavis' database.\n",
    "cursor.execute(\"DROP DATABASE IF EXISTS eBay\")\n",
    "cursor.execute(\"CREATE DATABASE eBay\")\n",
    "\n",
    "# Check whether the database has be successfully created.\n",
    "cursor.execute(\"SHOW DATABASES\")\n",
    "for x in cursor:\n",
    "  print(x)"
   ]
  },
  {
   "cell_type": "code",
   "execution_count": 12,
   "metadata": {},
   "outputs": [
    {
     "name": "stdout",
     "output_type": "stream",
     "text": [
      "('eBay_items',)\n"
     ]
    }
   ],
   "source": [
    "# Use the 'ucdavis' database.\n",
    "cursor.execute(\"USE eBay\")\n",
    "\n",
    "# Create table 'omdb' with corresponding columns.\n",
    "cursor.execute(\"CREATE TABLE eBay_items (item_id CHAR(255), seller_name VARCHAR(255), seller_score INT(255), item_priceUSD INT(100), item_OriginalCurrency VARCHAR(255), num_item_sold INT(200), best_offer VARCHAR(255), returns_allowed VARCHAR(255), shipping_priceUSD INT(100), shipping_compute VARCHAR(255), conditions VARCHAR(255), source VARCHAR(255))\")\n",
    "\n",
    "# Check whether the table has be successfully created.\n",
    "cursor.execute(\"SHOW TABLES\")\n",
    "for x in cursor:\n",
    "  print(x)"
   ]
  },
  {
   "cell_type": "code",
   "execution_count": null,
   "metadata": {
    "scrolled": false
   },
   "outputs": [],
   "source": [
    "# For each item, insert its information to the \"eBay_items table.\"\n",
    "sql = \"INSERT INTO eBay_items (item_id, seller_name, seller_score, item_priceUSD, item_OriginalCurrency, num_item_sold, best_offer, returns_allowed, shipping_priceUSD, shipping_compute, conditions, source) VALUES (%s, %s, %s, %s, %s, %s, %s, %s, %s, %s, %s, %s)\"\n",
    "for i in range(len(item_id_list)):\n",
    "    item_id = item_id_list[i]\n",
    "    seller_name = seller_name_list[i]\n",
    "    seller_score = seller_score_list[i]\n",
    "    item_price = item_price_list_formatted[i]\n",
    "    item_currency = currency_list_formatted[i]\n",
    "    num_item_sold = num_item_sold_list[i]\n",
    "    shipping_price = shipping_price_list_formatted[i]\n",
    "    shipping_compute = shipping_cost_note_formatted[i]\n",
    "    best_offer = best_offer_list[i]\n",
    "    returns_allowed = returns_allowed_list_formatted[i]\n",
    "    condition = condition_list[i]\n",
    "    source = source_list[i]\n",
    "    \n",
    "    val = (item_id, seller_name, seller_score, item_price, item_currency, num_item_sold, \n",
    "           best_offer, returns_allowed, shipping_price, shipping_compute,\n",
    "           condition, source)\n",
    "    cursor.execute(\"set sql_mode = ''\")\n",
    "    \n",
    "    cursor.execute(sql, val)\n",
    "\n",
    "# Make the changes to the database.\n",
    "conn.commit()\n",
    "\n",
    "# Check whether the information has been successfully inserted.\n",
    "cursor.execute(\"SELECT * FROM eBay_items\")\n",
    "result = cursor.fetchall()\n",
    "for x in result:\n",
    "  print(x)"
   ]
  },
  {
   "cell_type": "markdown",
   "metadata": {},
   "source": [
    "### Use your code script (and NOT SQL GUI or command terminal) to run summary stats on each item. Print to the screen the mean, min, max, and mean for each column, grouped by \"sponsor/non-sponsor\" and \"condition\" (group by at the same time, not separately). For binary categorical columns, use 0-1 conversion. For e.g., for the \"returns allowed\" convert YES to 1 and NO to 0 and then calculate the stats. If it is NOT a numerical/binary categorical column, print to the screen the count of each category level. You will need to ignore NULL values in your statistic calculations. "
   ]
  },
  {
   "cell_type": "code",
   "execution_count": null,
   "metadata": {},
   "outputs": [],
   "source": [
    "# Categorical: item_id, seller_name, conditions, source, item_currency\n",
    "# Binary categorical: best_offer, shipping_compute, returns_allowed\n",
    "# numeric: seller_score, item_price, shipping_price, num_item_sold\n",
    "\n",
    "cursor.execute(\"SELECT source, item_id, count(item_id) FROM eBay_items GROUP BY source, item_id\")\n",
    "result = cursor.fetchall()\n",
    "print(\"-----------------------------------Item ID-----------------------------------------\")\n",
    "print(\"Source           item_id    Count\")\n",
    "for x in result:\n",
    "    print(x)"
   ]
  },
  {
   "cell_type": "code",
   "execution_count": null,
   "metadata": {
    "scrolled": true
   },
   "outputs": [],
   "source": [
    "cursor.execute(\"SELECT source, seller_name, count(seller_name) FROM eBay_items GROUP BY source, seller_name\")\n",
    "result = cursor.fetchall()\n",
    "print(\"-----------------------------------Seller Name-----------------------------------------\")\n",
    "print(\"Source           seller_name         Count\")\n",
    "for x in result:\n",
    "    print(x)  "
   ]
  },
  {
   "cell_type": "code",
   "execution_count": 16,
   "metadata": {},
   "outputs": [
    {
     "name": "stdout",
     "output_type": "stream",
     "text": [
      "-------------------------------Item Original Currency-----------------------------------\n",
      "Source      Currency  Count\n",
      "('sponsored', 'USD', 94)\n",
      "('sponsored', 'Canadian Dollars', 8)\n",
      "('non-sponsored', 'USD', 806)\n"
     ]
    }
   ],
   "source": [
    "cursor.execute(\"SELECT source, item_OriginalCurrency, count(item_OriginalCurrency) FROM eBay_items GROUP BY source, item_OriginalCurrency\")\n",
    "result = cursor.fetchall()\n",
    "print(\"-------------------------------Item Original Currency-----------------------------------\")\n",
    "print(\"Source      Currency  Count\")\n",
    "for x in result:\n",
    "    print(x)"
   ]
  },
  {
   "cell_type": "code",
   "execution_count": 17,
   "metadata": {},
   "outputs": [
    {
     "name": "stdout",
     "output_type": "stream",
     "text": [
      "---------------------------------Returns Allowed---------------------------------------\n",
      "Source       Condition         Mean    Min    Max  Standard Deviation\n",
      "('sponsored', 'Used', Decimal('0.5385'), 0, 1, 0.4985185152621431)\n",
      "('sponsored', 'New', Decimal('0.7143'), 0, 1, 0.45175395145262554)\n",
      "('sponsored', 'Open box', Decimal('0.5000'), 0, 1, 0.5)\n",
      "('sponsored', 'Seller refurbished', Decimal('1.0000'), 1, 1, 0.0)\n",
      "('sponsored', 'Manufacturer refurbished', Decimal('1.0000'), 1, 1, 0.0)\n",
      "('non-sponsored', 'Used', Decimal('0.4391'), 0, 1, 0.496274933497733)\n",
      "('non-sponsored', 'Seller refurbished', Decimal('0.5357'), 0, 1, 0.4987228587060336)\n",
      "('non-sponsored', 'New', Decimal('0.5106'), 0, 1, 0.49988681380726496)\n",
      "('non-sponsored', 'Manufacturer refurbished', Decimal('0.2857'), 0, 1, 0.45175395145262565)\n",
      "('non-sponsored', 'Open box', Decimal('0.2075'), 0, 1, 0.4055506652868808)\n"
     ]
    }
   ],
   "source": [
    "cursor.execute(\"SELECT source, conditions, avg(returns_allowed_binary), min(returns_allowed_binary), max(returns_allowed_binary), std(returns_allowed_binary) FROM (SELECT source, conditions, (CASE WHEN returns_allowed='Yes' THEN 1 WHEN returns_allowed='No' THEN 0 ELSE Null END) AS returns_allowed_binary FROM eBay_items) AS a GROUP BY source, conditions\")\n",
    "result = cursor.fetchall()\n",
    "print(\"---------------------------------Returns Allowed---------------------------------------\")\n",
    "print(\"Source       Condition         Mean    Min    Max  Standard Deviation\")\n",
    "for x in result:\n",
    "    print(x)"
   ]
  },
  {
   "cell_type": "code",
   "execution_count": 18,
   "metadata": {},
   "outputs": [
    {
     "name": "stdout",
     "output_type": "stream",
     "text": [
      "---------------------------------Shipping Compute---------------------------------------\n",
      "Source       Condition         Mean    Min    Max  Standard Deviation\n",
      "('sponsored', 'Used', Decimal('0.3654'), 0, 1, 0.4815378471364968)\n",
      "('sponsored', 'New', Decimal('0.2857'), 0, 1, 0.45175395145262554)\n",
      "('sponsored', 'Open box', Decimal('0.5000'), 0, 1, 0.5)\n",
      "('sponsored', 'Seller refurbished', Decimal('0.0000'), 0, 0, 0.0)\n",
      "('sponsored', 'Manufacturer refurbished', Decimal('0.0000'), 0, 0, 0.0)\n",
      "('non-sponsored', 'Used', Decimal('0.3876'), 0, 1, 0.4872058493091433)\n",
      "('non-sponsored', 'Seller refurbished', Decimal('0.3929'), 0, 1, 0.48838551182776224)\n",
      "('non-sponsored', 'New', Decimal('0.2411'), 0, 1, 0.4277718822695097)\n",
      "('non-sponsored', 'Manufacturer refurbished', Decimal('0.7143'), 0, 1, 0.45175395145262565)\n",
      "('non-sponsored', 'Open box', Decimal('0.6038'), 0, 1, 0.4891125055402158)\n"
     ]
    }
   ],
   "source": [
    "cursor.execute(\"SELECT source, conditions, avg(shipping_compute_binary), min(shipping_compute_binary), max(shipping_compute_binary), std(shipping_compute_binary) FROM (SELECT source, conditions, (CASE WHEN shipping_compute=1 THEN 1 ELSE 0 END) AS shipping_compute_binary FROM eBay_items) AS a GROUP BY source, conditions\")\n",
    "result = cursor.fetchall()\n",
    "print(\"---------------------------------Shipping Compute---------------------------------------\")\n",
    "print(\"Source       Condition         Mean    Min    Max  Standard Deviation\")\n",
    "for x in result:\n",
    "    print(x)"
   ]
  },
  {
   "cell_type": "code",
   "execution_count": 19,
   "metadata": {},
   "outputs": [
    {
     "name": "stdout",
     "output_type": "stream",
     "text": [
      "-------------------------------Best Offer Available-------------------------------------\n",
      "Source       Condition         Mean    Min    Max  Standard Deviation\n",
      "('sponsored', 'Used', Decimal('0.5385'), 0, 1, 0.498518515262143)\n",
      "('sponsored', 'New', Decimal('0.2619'), 0, 1, 0.43967107887189016)\n",
      "('sponsored', 'Open box', Decimal('0.7500'), 0, 1, 0.4330127018922193)\n",
      "('sponsored', 'Seller refurbished', Decimal('0.0000'), 0, 0, 0.0)\n",
      "('sponsored', 'Manufacturer refurbished', Decimal('1.0000'), 1, 1, 0.0)\n",
      "('non-sponsored', 'Used', Decimal('0.4083'), 0, 1, 0.49151113931154633)\n",
      "('non-sponsored', 'Seller refurbished', Decimal('0.4286'), 0, 1, 0.4948716593053935)\n",
      "('non-sponsored', 'New', Decimal('0.2872'), 0, 1, 0.4524717088965263)\n",
      "('non-sponsored', 'Manufacturer refurbished', Decimal('0.5714'), 0, 1, 0.4948716593053935)\n",
      "('non-sponsored', 'Open box', Decimal('0.5283'), 0, 1, 0.49919836057822464)\n"
     ]
    }
   ],
   "source": [
    "cursor.execute(\"SELECT source, conditions, avg(best_offer_binary), min(best_offer_binary), max(best_offer_binary), std(best_offer_binary) FROM (SELECT source, conditions, (CASE WHEN best_offer='Yes' THEN 1 ELSE 0 END) AS best_offer_binary FROM eBay_items) AS a GROUP BY source, conditions\")\n",
    "result = cursor.fetchall()\n",
    "print(\"-------------------------------Best Offer Available-------------------------------------\")\n",
    "print(\"Source       Condition         Mean    Min    Max  Standard Deviation\")\n",
    "for x in result:\n",
    "    print(x) "
   ]
  },
  {
   "cell_type": "code",
   "execution_count": 20,
   "metadata": {},
   "outputs": [
    {
     "name": "stdout",
     "output_type": "stream",
     "text": [
      "-----------------------------------Seller Score-----------------------------------------\n",
      "Source       Condition         Mean    Min    Max  Standard Deviation\n",
      "('sponsored', 'Used', Decimal('19418.5769'), 0, 258907, 47425.028035086056)\n",
      "('sponsored', 'New', Decimal('16724.8571'), 0, 568381, 86473.11589890413)\n",
      "('sponsored', 'Open box', Decimal('16498.7500'), 5, 64483, 27710.06277848356)\n",
      "('sponsored', 'Seller refurbished', Decimal('20130.6667'), 325, 41454, 16825.10315636199)\n",
      "('sponsored', 'Manufacturer refurbished', Decimal('534.0000'), 534, 534, 0.0)\n",
      "('non-sponsored', 'Used', Decimal('39041.7862'), 0, 258909, 67882.4444101479)\n",
      "('non-sponsored', 'Seller refurbished', Decimal('99119.8571'), 0, 2265576, 420175.51862998825)\n",
      "('non-sponsored', 'New', Decimal('15079.0709'), -1, 916859, 65110.53533610238)\n",
      "('non-sponsored', 'Manufacturer refurbished', Decimal('323663.0000'), 0, 2265577, 792783.0708413061)\n",
      "('non-sponsored', 'Open box', Decimal('24560.8679'), 0, 620455, 113206.78483984523)\n"
     ]
    }
   ],
   "source": [
    "cursor.execute(\"SELECT source, conditions, avg(seller_score), min(seller_score), max(seller_score), std(seller_score) FROM eBay_items GROUP BY source, conditions\")\n",
    "result = cursor.fetchall()\n",
    "print(\"-----------------------------------Seller Score-----------------------------------------\")\n",
    "print(\"Source       Condition         Mean    Min    Max  Standard Deviation\")\n",
    "for x in result:\n",
    "    print(x)"
   ]
  },
  {
   "cell_type": "code",
   "execution_count": 21,
   "metadata": {},
   "outputs": [
    {
     "name": "stdout",
     "output_type": "stream",
     "text": [
      "-------------------------------Shipping Price USD---------------------------------------\n",
      "Source       Condition         Mean    Min    Max  Standard Deviation\n",
      "('sponsored', 'Used', Decimal('1291.3636'), 0, 5266, 1993.5356867724392)\n",
      "('sponsored', 'New', Decimal('339.9333'), 0, 4999, 1184.1024993170518)\n",
      "('sponsored', 'Open box', Decimal('0.0000'), 0, 0, 0.0)\n",
      "('sponsored', 'Seller refurbished', Decimal('0.0000'), 0, 0, 0.0)\n",
      "('sponsored', 'Manufacturer refurbished', Decimal('0.0000'), 0, 0, 0.0)\n",
      "('non-sponsored', 'Used', Decimal('542.7678'), 0, 4660, 943.4716424387796)\n",
      "('non-sponsored', 'Seller refurbished', Decimal('216.3529'), 0, 2000, 595.0747794013662)\n",
      "('non-sponsored', 'New', Decimal('303.6308'), 0, 4800, 752.8772902598483)\n",
      "('non-sponsored', 'Manufacturer refurbished', Decimal('75.0000'), 0, 150, 75.0)\n",
      "('non-sponsored', 'Open box', Decimal('926.4286'), 0, 5700, 1393.4997589634856)\n"
     ]
    }
   ],
   "source": [
    "cursor.execute(\"SELECT source, conditions, avg(shipping_priceUSD), min(shipping_priceUSD), max(shipping_priceUSD), std(shipping_priceUSD) FROM eBay_items GROUP BY source, conditions\")\n",
    "result = cursor.fetchall()\n",
    "print(\"-------------------------------Shipping Price USD---------------------------------------\")\n",
    "print(\"Source       Condition         Mean    Min    Max  Standard Deviation\")\n",
    "for x in result:\n",
    "    print(x)"
   ]
  },
  {
   "cell_type": "code",
   "execution_count": 22,
   "metadata": {},
   "outputs": [
    {
     "name": "stdout",
     "output_type": "stream",
     "text": [
      "----------------------------------Item Price USD---------------------------------------\n",
      "Source       Condition         Mean    Min    Max  Standard Deviation\n",
      "('sponsored', 'Used', Decimal('25742.8077'), 15000, 55351, 7721.590168627738)\n",
      "('sponsored', 'New', Decimal('33389.9524'), 22100, 59999, 10738.533953660663)\n",
      "('sponsored', 'Open box', Decimal('25073.7500'), 18995, 33500, 5261.375028212682)\n",
      "('sponsored', 'Seller refurbished', Decimal('22232.6667'), 19999, 24700, 1926.2745275675418)\n",
      "('sponsored', 'Manufacturer refurbished', Decimal('19999.0000'), 19999, 19999, 0.0)\n",
      "('non-sponsored', 'Used', Decimal('21516.6445'), 1450, 50000, 6513.247823182019)\n",
      "('non-sponsored', 'Seller refurbished', Decimal('20966.3214'), 7100, 30000, 5341.458555846571)\n",
      "('non-sponsored', 'New', Decimal('30604.2092'), 4600, 157500, 10956.995966283972)\n",
      "('non-sponsored', 'Manufacturer refurbished', Decimal('18292.7143'), 10250, 25000, 5182.301328678649)\n",
      "('non-sponsored', 'Open box', Decimal('24747.3019'), 12400, 50000, 6433.652962133274)\n"
     ]
    }
   ],
   "source": [
    "cursor.execute(\"SELECT source, conditions, avg(item_priceUSD), min(item_priceUSD), max(item_priceUSD), std(item_priceUSD) FROM eBay_items GROUP BY source, conditions\")\n",
    "result = cursor.fetchall()\n",
    "print(\"----------------------------------Item Price USD---------------------------------------\")\n",
    "print(\"Source       Condition         Mean    Min    Max  Standard Deviation\")\n",
    "for x in result:\n",
    "    print(x)"
   ]
  },
  {
   "cell_type": "code",
   "execution_count": 23,
   "metadata": {},
   "outputs": [
    {
     "name": "stdout",
     "output_type": "stream",
     "text": [
      "---------------------------------Num of Items Sold--------------------------------------\n",
      "Source       Condition         Mean    Min    Max  Standard Deviation\n",
      "('sponsored', 'Used', Decimal('22.5000'), 3, 58, 21.523243250030884)\n",
      "('sponsored', 'New', Decimal('39.4118'), 1, 316, 74.81196729018018)\n",
      "('sponsored', 'Open box', Decimal('5.0000'), 5, 5, 0.0)\n",
      "('sponsored', 'Seller refurbished', Decimal('2.5000'), 1, 4, 1.5)\n",
      "('sponsored', 'Manufacturer refurbished', Decimal('3.0000'), 3, 3, 0.0)\n",
      "('non-sponsored', 'Used', Decimal('11.1000'), 1, 58, 16.573774464496616)\n",
      "('non-sponsored', 'Seller refurbished', Decimal('23.2857'), 1, 93, 33.37113502806317)\n",
      "('non-sponsored', 'New', Decimal('37.5303'), 1, 872, 129.32074521256214)\n",
      "('non-sponsored', 'Manufacturer refurbished', Decimal('5.0000'), 5, 5, 0.0)\n",
      "('non-sponsored', 'Open box', Decimal('41.0000'), 1, 119, 55.16037224916694)\n"
     ]
    }
   ],
   "source": [
    "cursor.execute(\"SELECT source, conditions, avg(num_item_sold), min(num_item_sold), max(num_item_sold), std(num_item_sold) FROM eBay_items GROUP BY source, conditions\")\n",
    "result = cursor.fetchall()\n",
    "print(\"---------------------------------Num of Items Sold--------------------------------------\")\n",
    "print(\"Source       Condition         Mean    Min    Max  Standard Deviation\")\n",
    "for x in result:\n",
    "    print(x)"
   ]
  },
  {
   "cell_type": "code",
   "execution_count": 24,
   "metadata": {},
   "outputs": [
    {
     "name": "stdout",
     "output_type": "stream",
     "text": [
      "-------------------------------------Condition-----------------------------------------\n",
      "Source           conditions         Count\n",
      "('sponsored', 'Used', 52)\n",
      "('sponsored', 'New', 42)\n",
      "('sponsored', 'Open box', 4)\n",
      "('sponsored', 'Seller refurbished', 3)\n",
      "('sponsored', 'Manufacturer refurbished', 1)\n",
      "('non-sponsored', 'Used', 436)\n",
      "('non-sponsored', 'Seller refurbished', 28)\n",
      "('non-sponsored', 'New', 282)\n",
      "('non-sponsored', 'Manufacturer refurbished', 7)\n",
      "('non-sponsored', 'Open box', 53)\n"
     ]
    }
   ],
   "source": [
    "cursor.execute(\"SELECT source, conditions, count(conditions) FROM eBay_items GROUP BY source, conditions\")\n",
    "result = cursor.fetchall()\n",
    "print(\"-------------------------------------Condition-----------------------------------------\")\n",
    "print(\"Source           conditions         Count\")\n",
    "for x in result:\n",
    "    print(x) "
   ]
  },
  {
   "cell_type": "markdown",
   "metadata": {},
   "source": [
    "### Use the stats in above and tell how sponsored and non-sponsored items appear to be different. "
   ]
  },
  {
   "cell_type": "markdown",
   "metadata": {},
   "source": [
    "For seller name, shipping price, best offer available, and conditions, there is no much difference between the sponsor and non-sponsor items. "
   ]
  },
  {
   "cell_type": "markdown",
   "metadata": {},
   "source": [
    "Number of item sold: the non-sponsored new item have a larger variance of number of items sold. The maximum is a lot greater than that of sponsored new item. Overall, the sponsored items that are new or used are sold the most while the non-sponsored items that are new or seller refurbished are sold the most."
   ]
  },
  {
   "cell_type": "markdown",
   "metadata": {},
   "source": [
    "Item price: all sponsored items have higher min, average, and max item prices than \n",
    "non-sponsored items."
   ]
  },
  {
   "cell_type": "markdown",
   "metadata": {},
   "source": [
    "Shipping price: all sponsored items have higher average shipping prices than non-sponsored items."
   ]
  },
  {
   "cell_type": "markdown",
   "metadata": {},
   "source": [
    "Seller score: except the items that are new, all sponsored items have  higher mean and max seller scores than that of non-sponsored items."
   ]
  },
  {
   "cell_type": "markdown",
   "metadata": {},
   "source": [
    "Returns allowed: overall, the sponsored items have higher chance of accepting returns than that of non-sponsored items."
   ]
  },
  {
   "cell_type": "markdown",
   "metadata": {},
   "source": [
    "Best offer available: from the mean, overall, the sponsored items have higher chance of best offer available than that of non-sponsored items."
   ]
  },
  {
   "cell_type": "markdown",
   "metadata": {},
   "source": [
    "In a nutshell, columns \"number of item sold\", \"item price\", \"seller score\", and \"returns allowed\" can be used to predict the sponsor/non-sponsor items."
   ]
  }
 ],
 "metadata": {
  "kernelspec": {
   "display_name": "Python 3",
   "language": "python",
   "name": "python3"
  },
  "language_info": {
   "codemirror_mode": {
    "name": "ipython",
    "version": 3
   },
   "file_extension": ".py",
   "mimetype": "text/x-python",
   "name": "python",
   "nbconvert_exporter": "python",
   "pygments_lexer": "ipython3",
   "version": "3.7.4"
  }
 },
 "nbformat": 4,
 "nbformat_minor": 2
}
